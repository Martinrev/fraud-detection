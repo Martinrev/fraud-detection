{
 "cells": [
  {
   "cell_type": "code",
   "execution_count": null,
   "metadata": {},
   "outputs": [],
   "source": [
    "import pickle\n",
    "\n",
    "with open('dataframe_recap_sampling_no_sampling.pkl', 'rb') as file:\n",
    "    dataframe_recap_sampling_no_sampling = pickle.load(file)\n",
    "\n",
    "with open('best_results_df2.pkl', 'rb') as file:\n",
    "    best_results_df2 = pickle.load(file)"
   ]
  },
  {
   "cell_type": "code",
   "execution_count": null,
   "metadata": {},
   "outputs": [],
   "source": [
    "latex_code = dataframe_recap_sampling_no_sampling.to_latex(index=False)\n",
    "latex_code"
   ]
  },
  {
   "cell_type": "code",
   "execution_count": null,
   "metadata": {},
   "outputs": [],
   "source": [
    "latex_code = best_results_df2.to_latex(index=False)\n",
    "latex_code"
   ]
  },
  {
   "cell_type": "code",
   "execution_count": null,
   "metadata": {},
   "outputs": [],
   "source": [
    "with open('modele_regression_logistique.pkl', 'rb') as file:\n",
    "    modele_regression_logistique = pickle.load(file)\n",
    "\n",
    "with open('modele_xgboost.pkl', 'rb') as file:\n",
    "    modele_xgboost = pickle.load(file)"
   ]
  },
  {
   "cell_type": "code",
   "execution_count": null,
   "metadata": {},
   "outputs": [],
   "source": [
    "with open('modele_adaboost.pkl', 'rb') as file:\n",
    "    modele_adaboost = pickle.load(file)\n",
    "\n",
    "with open('modele_arbre_decision.pkl', 'rb') as file:\n",
    "    modele_arbre_decision = pickle.load(file)"
   ]
  },
  {
   "cell_type": "code",
   "execution_count": null,
   "metadata": {},
   "outputs": [],
   "source": [
    "import pickle\n",
    "\n",
    "with open('dataframe.pkl', 'rb') as file:\n",
    "    df = pickle.load(file)"
   ]
  },
  {
   "cell_type": "code",
   "execution_count": null,
   "metadata": {},
   "outputs": [],
   "source": [
    "# Définition des dates limites pour les ensembles d'apprentissage et de test\n",
    "train_inf = '2017-02-01'\n",
    "train_sup = '2017-08-31'\n",
    "test_inf = '2017-09-01'\n",
    "test_sup = '2017-11-30'"
   ]
  },
  {
   "cell_type": "code",
   "execution_count": null,
   "metadata": {},
   "outputs": [],
   "source": [
    "train = df.loc[(df['DateTransaction'] >= train_inf) & (df['DateTransaction'] <= train_sup)]\n",
    "X_train = train.drop(columns=['FlagImpaye','CodeDecision','DateTransaction'])\n",
    "y_train = train['FlagImpaye']"
   ]
  },
  {
   "cell_type": "code",
   "execution_count": null,
   "metadata": {},
   "outputs": [],
   "source": [
    "test = df.loc[(df['DateTransaction'] >= test_inf) & (df['DateTransaction'] <= test_sup)]\n",
    "X_test = test.drop(columns=['FlagImpaye','CodeDecision','DateTransaction'])\n",
    "y_test = test['FlagImpaye']"
   ]
  },
  {
   "cell_type": "code",
   "execution_count": null,
   "metadata": {},
   "outputs": [],
   "source": [
    "from sklearn.metrics import f1_score, confusion_matrix"
   ]
  },
  {
   "cell_type": "code",
   "execution_count": null,
   "metadata": {},
   "outputs": [],
   "source": [
    "from imblearn.over_sampling import RandomOverSampler\n",
    "from sklearn.ensemble import AdaBoostClassifier\n",
    "from sklearn.model_selection import train_test_split\n",
    "from sklearn.metrics import f1_score, confusion_matrix\n",
    "\n",
    "# Assume que X et y sont vos features et labels respectivement\n",
    "# Assurez-vous d'importer vos données correctement avant d'utiliser ce code\n",
    "\n",
    "# Utilisation du Random Oversampler\n",
    "oversampler = RandomOverSampler(sampling_strategy=0.1, random_state=42)\n",
    "X_resampled, y_resampled = oversampler.fit_resample(X_train, y_train)\n",
    "\n",
    "# Initialisation du modèle AdaBoost\n",
    "adaboost_model = AdaBoostClassifier()\n",
    "\n",
    "# Entraînement du modèle sur les données échantillonnées\n",
    "adaboost_model.fit(X_resampled, y_resampled)\n",
    "\n",
    "# Prédiction sur l'ensemble de test\n",
    "y_pred = adaboost_model.predict(X_test)\n",
    "\n",
    "# Calcul du F1 Score\n",
    "f1 = f1_score(y_test, y_pred)\n",
    "\n",
    "conf_matrix = confusion_matrix(y_test, y_pred)\n",
    "\n",
    "print(f\"F1 Score du modèle AdaBoost : {f1}\")\n",
    "print(\"Matrice de confusion :\\n\", conf_matrix)\n"
   ]
  },
  {
   "cell_type": "code",
   "execution_count": null,
   "metadata": {},
   "outputs": [],
   "source": [
    "from sklearn.metrics import make_scorer\n",
    "\n",
    "# fonction de coût spécifique en fonction des résultats du modèle\n",
    "def custom_cost(y_true, y_pred, dataframe):\n",
    "    marge = 0\n",
    "    \n",
    "    for true, pred, montant in zip(y_true, y_pred, dataframe['Montant']):\n",
    "        if true == 1 and pred == 0:  # FN\n",
    "            if montant <= 20:\n",
    "                marge = marge\n",
    "            elif montant <= 50:\n",
    "                marge -= 0.2 * montant\n",
    "            elif montant <= 100:\n",
    "                marge -= 0.3 * montant\n",
    "            elif montant <= 200:\n",
    "                marge -= 0.5 * montant\n",
    "            else:\n",
    "                marge -= 0.8 * montant\n",
    "\n",
    "        elif true == 0 and pred == 1:  # FP\n",
    "            marge += 0.7 * 0.05 * montant\n",
    "        elif true == 0 and pred == 0:  # TN\n",
    "            marge += 0.05 * montant\n",
    "        # Le cas TP n'ajoute pas de coût\n",
    "    \n",
    "    return marge\n",
    "\n",
    "marge = custom_cost(y_test, y_pred, X_test)\n",
    "print(\"Montant de la prédiction en utilisant la fonction de coût personnalisée :\", marge)"
   ]
  }
 ],
 "metadata": {
  "kernelspec": {
   "display_name": "base",
   "language": "python",
   "name": "python3"
  },
  "language_info": {
   "codemirror_mode": {
    "name": "ipython",
    "version": 3
   },
   "file_extension": ".py",
   "mimetype": "text/x-python",
   "name": "python",
   "nbconvert_exporter": "python",
   "pygments_lexer": "ipython3",
   "version": "3.7.0"
  }
 },
 "nbformat": 4,
 "nbformat_minor": 2
}
