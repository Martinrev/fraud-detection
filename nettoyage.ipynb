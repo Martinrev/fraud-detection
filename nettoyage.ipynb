{
 "cells": [
  {
   "cell_type": "code",
   "execution_count": 1,
   "metadata": {},
   "outputs": [],
   "source": [
    "#import os\n",
    "\n",
    "#os.chdir(r'C:\\Users\\marevel\\Documents\\fraud-detection')\n"
   ]
  },
  {
   "cell_type": "code",
   "execution_count": 2,
   "metadata": {},
   "outputs": [
    {
     "name": "stdout",
     "output_type": "stream",
     "text": [
      "Requirement already satisfied: pandas in c:\\python311\\lib\\site-packages (2.1.1)\n",
      "Requirement already satisfied: numpy>=1.23.2 in c:\\python311\\lib\\site-packages (from pandas) (1.26.0)\n",
      "Requirement already satisfied: python-dateutil>=2.8.2 in c:\\users\\marevel\\appdata\\roaming\\python\\python311\\site-packages (from pandas) (2.8.2)\n",
      "Requirement already satisfied: pytz>=2020.1 in c:\\python311\\lib\\site-packages (from pandas) (2023.3.post1)\n",
      "Requirement already satisfied: tzdata>=2022.1 in c:\\python311\\lib\\site-packages (from pandas) (2023.3)\n",
      "Requirement already satisfied: six>=1.5 in c:\\users\\marevel\\appdata\\roaming\\python\\python311\\site-packages (from python-dateutil>=2.8.2->pandas) (1.16.0)\n",
      "Note: you may need to restart the kernel to use updated packages.\n"
     ]
    },
    {
     "name": "stderr",
     "output_type": "stream",
     "text": [
      "\n",
      "[notice] A new release of pip is available: 23.1.2 -> 23.3.2\n",
      "[notice] To update, run: python.exe -m pip install --upgrade pip\n"
     ]
    }
   ],
   "source": [
    "pip install pandas"
   ]
  },
  {
   "cell_type": "code",
   "execution_count": 3,
   "metadata": {},
   "outputs": [],
   "source": [
    "import pandas as pd"
   ]
  },
  {
   "cell_type": "code",
   "execution_count": 4,
   "metadata": {},
   "outputs": [
    {
     "name": "stderr",
     "output_type": "stream",
     "text": [
      "C:\\Users\\marevel\\AppData\\Local\\Temp\\ipykernel_2472\\2018471446.py:1: DtypeWarning: Columns (1,2,5,6,7,8,9,15,16,22) have mixed types. Specify dtype option on import or set low_memory=False.\n",
      "  df = pd.read_table('guillaume.txt', sep=';')\n"
     ]
    }
   ],
   "source": [
    "df = pd.read_table('guillaume.txt', sep=';')"
   ]
  },
  {
   "cell_type": "code",
   "execution_count": 5,
   "metadata": {},
   "outputs": [
    {
     "data": {
      "text/html": [
       "<div>\n",
       "<style scoped>\n",
       "    .dataframe tbody tr th:only-of-type {\n",
       "        vertical-align: middle;\n",
       "    }\n",
       "\n",
       "    .dataframe tbody tr th {\n",
       "        vertical-align: top;\n",
       "    }\n",
       "\n",
       "    .dataframe thead th {\n",
       "        text-align: right;\n",
       "    }\n",
       "</style>\n",
       "<table border=\"1\" class=\"dataframe\">\n",
       "  <thead>\n",
       "    <tr style=\"text-align: right;\">\n",
       "      <th></th>\n",
       "      <th>ZIBZIN</th>\n",
       "      <th>IDAvisAutorisationCheque</th>\n",
       "      <th>FlagImpaye</th>\n",
       "      <th>Montant</th>\n",
       "      <th>DateTransaction</th>\n",
       "      <th>CodeDecision</th>\n",
       "      <th>VerifianceCPT1</th>\n",
       "      <th>VerifianceCPT2</th>\n",
       "      <th>VerifianceCPT3</th>\n",
       "      <th>D2CB</th>\n",
       "      <th>...</th>\n",
       "      <th>TauxImpNb_RB</th>\n",
       "      <th>TauxImpNB_CPM</th>\n",
       "      <th>EcartNumCheq</th>\n",
       "      <th>NbrMagasin3J</th>\n",
       "      <th>DiffDateTr1</th>\n",
       "      <th>DiffDateTr2</th>\n",
       "      <th>DiffDateTr3</th>\n",
       "      <th>CA3TRetMtt</th>\n",
       "      <th>CA3TR</th>\n",
       "      <th>Heure</th>\n",
       "    </tr>\n",
       "  </thead>\n",
       "  <tbody>\n",
       "    <tr>\n",
       "      <th>0</th>\n",
       "      <td>A013010004908126703060931</td>\n",
       "      <td>78643044</td>\n",
       "      <td>0</td>\n",
       "      <td>20</td>\n",
       "      <td>2017-02-01 07:32:14</td>\n",
       "      <td>1</td>\n",
       "      <td>0</td>\n",
       "      <td>0</td>\n",
       "      <td>0</td>\n",
       "      <td>551</td>\n",
       "      <td>...</td>\n",
       "      <td>37,186667890919111</td>\n",
       "      <td>52,076033757361408</td>\n",
       "      <td>0</td>\n",
       "      <td>1</td>\n",
       "      <td>4</td>\n",
       "      <td>4</td>\n",
       "      <td>4</td>\n",
       "      <td>20</td>\n",
       "      <td>0</td>\n",
       "      <td>27134</td>\n",
       "    </tr>\n",
       "    <tr>\n",
       "      <th>1</th>\n",
       "      <td>A013011306908024927155000</td>\n",
       "      <td>78643045</td>\n",
       "      <td>0</td>\n",
       "      <td>20</td>\n",
       "      <td>2017-02-01 07:43:37</td>\n",
       "      <td>1</td>\n",
       "      <td>0</td>\n",
       "      <td>0</td>\n",
       "      <td>0</td>\n",
       "      <td>551</td>\n",
       "      <td>...</td>\n",
       "      <td>48,844716275908937</td>\n",
       "      <td>52,076033757361408</td>\n",
       "      <td>1</td>\n",
       "      <td>2</td>\n",
       "      <td>1,7976851851851852</td>\n",
       "      <td>4</td>\n",
       "      <td>4</td>\n",
       "      <td>28,609999999999999</td>\n",
       "      <td>8,6099999999999994</td>\n",
       "      <td>27817</td>\n",
       "    </tr>\n",
       "    <tr>\n",
       "      <th>2</th>\n",
       "      <td>A013010002908283134592527</td>\n",
       "      <td>78643046</td>\n",
       "      <td>0</td>\n",
       "      <td>57,640000000000001</td>\n",
       "      <td>2017-02-01 07:47:38</td>\n",
       "      <td>1</td>\n",
       "      <td>0</td>\n",
       "      <td>0</td>\n",
       "      <td>0</td>\n",
       "      <td>549</td>\n",
       "      <td>...</td>\n",
       "      <td>73,118279569892479</td>\n",
       "      <td>52,076033757361408</td>\n",
       "      <td>0</td>\n",
       "      <td>1</td>\n",
       "      <td>4</td>\n",
       "      <td>4</td>\n",
       "      <td>4</td>\n",
       "      <td>57,640000000000001</td>\n",
       "      <td>0</td>\n",
       "      <td>28058</td>\n",
       "    </tr>\n",
       "    <tr>\n",
       "      <th>3</th>\n",
       "      <td>A011010002908105209831316</td>\n",
       "      <td>78643047</td>\n",
       "      <td>0</td>\n",
       "      <td>54,289999999999999</td>\n",
       "      <td>2017-02-01 07:48:48</td>\n",
       "      <td>0</td>\n",
       "      <td>1</td>\n",
       "      <td>1</td>\n",
       "      <td>1</td>\n",
       "      <td>267</td>\n",
       "      <td>...</td>\n",
       "      <td>110,05692599620494</td>\n",
       "      <td>53,554233554497365</td>\n",
       "      <td>0</td>\n",
       "      <td>1</td>\n",
       "      <td>4</td>\n",
       "      <td>4</td>\n",
       "      <td>4</td>\n",
       "      <td>54,289999999999999</td>\n",
       "      <td>0</td>\n",
       "      <td>28128</td>\n",
       "    </tr>\n",
       "    <tr>\n",
       "      <th>4</th>\n",
       "      <td>A013010041908000125652029</td>\n",
       "      <td>78643048</td>\n",
       "      <td>0</td>\n",
       "      <td>26,899999999999999</td>\n",
       "      <td>2017-02-01 08:13:27</td>\n",
       "      <td>1</td>\n",
       "      <td>0</td>\n",
       "      <td>0</td>\n",
       "      <td>0</td>\n",
       "      <td>549</td>\n",
       "      <td>...</td>\n",
       "      <td>45,36831264567185</td>\n",
       "      <td>52,076033757361408</td>\n",
       "      <td>1</td>\n",
       "      <td>1</td>\n",
       "      <td>1,9971064814814814</td>\n",
       "      <td>4</td>\n",
       "      <td>4</td>\n",
       "      <td>59,149999999999999</td>\n",
       "      <td>32,25</td>\n",
       "      <td>29607</td>\n",
       "    </tr>\n",
       "  </tbody>\n",
       "</table>\n",
       "<p>5 rows × 23 columns</p>\n",
       "</div>"
      ],
      "text/plain": [
       "                      ZIBZIN IDAvisAutorisationCheque FlagImpaye  \\\n",
       "0  A013010004908126703060931                 78643044          0   \n",
       "1  A013011306908024927155000                 78643045          0   \n",
       "2  A013010002908283134592527                 78643046          0   \n",
       "3  A011010002908105209831316                 78643047          0   \n",
       "4  A013010041908000125652029                 78643048          0   \n",
       "\n",
       "              Montant      DateTransaction CodeDecision VerifianceCPT1  \\\n",
       "0                  20  2017-02-01 07:32:14            1              0   \n",
       "1                  20  2017-02-01 07:43:37            1              0   \n",
       "2  57,640000000000001  2017-02-01 07:47:38            1              0   \n",
       "3  54,289999999999999  2017-02-01 07:48:48            0              1   \n",
       "4  26,899999999999999  2017-02-01 08:13:27            1              0   \n",
       "\n",
       "  VerifianceCPT2 VerifianceCPT3 D2CB  ...        TauxImpNb_RB  \\\n",
       "0              0              0  551  ...  37,186667890919111   \n",
       "1              0              0  551  ...  48,844716275908937   \n",
       "2              0              0  549  ...  73,118279569892479   \n",
       "3              1              1  267  ...  110,05692599620494   \n",
       "4              0              0  549  ...   45,36831264567185   \n",
       "\n",
       "        TauxImpNB_CPM EcartNumCheq NbrMagasin3J         DiffDateTr1  \\\n",
       "0  52,076033757361408            0            1                   4   \n",
       "1  52,076033757361408            1            2  1,7976851851851852   \n",
       "2  52,076033757361408            0            1                   4   \n",
       "3  53,554233554497365            0            1                   4   \n",
       "4  52,076033757361408            1            1  1,9971064814814814   \n",
       "\n",
       "  DiffDateTr2 DiffDateTr3          CA3TRetMtt               CA3TR  Heure  \n",
       "0           4           4                  20                   0  27134  \n",
       "1           4           4  28,609999999999999  8,6099999999999994  27817  \n",
       "2           4           4  57,640000000000001                   0  28058  \n",
       "3           4           4  54,289999999999999                   0  28128  \n",
       "4           4           4  59,149999999999999               32,25  29607  \n",
       "\n",
       "[5 rows x 23 columns]"
      ]
     },
     "execution_count": 5,
     "metadata": {},
     "output_type": "execute_result"
    }
   ],
   "source": [
    "df.head()"
   ]
  },
  {
   "cell_type": "code",
   "execution_count": 6,
   "metadata": {},
   "outputs": [
    {
     "data": {
      "text/plain": [
       "(4646774, 23)"
      ]
     },
     "execution_count": 6,
     "metadata": {},
     "output_type": "execute_result"
    }
   ],
   "source": [
    "df.shape"
   ]
  },
  {
   "cell_type": "code",
   "execution_count": 7,
   "metadata": {},
   "outputs": [
    {
     "data": {
      "text/html": [
       "<div>\n",
       "<style scoped>\n",
       "    .dataframe tbody tr th:only-of-type {\n",
       "        vertical-align: middle;\n",
       "    }\n",
       "\n",
       "    .dataframe tbody tr th {\n",
       "        vertical-align: top;\n",
       "    }\n",
       "\n",
       "    .dataframe thead th {\n",
       "        text-align: right;\n",
       "    }\n",
       "</style>\n",
       "<table border=\"1\" class=\"dataframe\">\n",
       "  <thead>\n",
       "    <tr style=\"text-align: right;\">\n",
       "      <th></th>\n",
       "      <th>ZIBZIN</th>\n",
       "      <th>IDAvisAutorisationCheque</th>\n",
       "      <th>FlagImpaye</th>\n",
       "      <th>Montant</th>\n",
       "      <th>DateTransaction</th>\n",
       "      <th>CodeDecision</th>\n",
       "      <th>VerifianceCPT1</th>\n",
       "      <th>VerifianceCPT2</th>\n",
       "      <th>VerifianceCPT3</th>\n",
       "      <th>D2CB</th>\n",
       "      <th>...</th>\n",
       "      <th>TauxImpNb_RB</th>\n",
       "      <th>TauxImpNB_CPM</th>\n",
       "      <th>EcartNumCheq</th>\n",
       "      <th>NbrMagasin3J</th>\n",
       "      <th>DiffDateTr1</th>\n",
       "      <th>DiffDateTr2</th>\n",
       "      <th>DiffDateTr3</th>\n",
       "      <th>CA3TRetMtt</th>\n",
       "      <th>CA3TR</th>\n",
       "      <th>Heure</th>\n",
       "    </tr>\n",
       "  </thead>\n",
       "  <tbody>\n",
       "    <tr>\n",
       "      <th>count</th>\n",
       "      <td>4646774</td>\n",
       "      <td>4646774</td>\n",
       "      <td>4646774</td>\n",
       "      <td>4646774</td>\n",
       "      <td>4646774</td>\n",
       "      <td>4646774</td>\n",
       "      <td>4646774</td>\n",
       "      <td>4646774</td>\n",
       "      <td>4646774</td>\n",
       "      <td>4646774</td>\n",
       "      <td>...</td>\n",
       "      <td>4646774</td>\n",
       "      <td>4646774</td>\n",
       "      <td>4646774</td>\n",
       "      <td>4646774</td>\n",
       "      <td>4646774</td>\n",
       "      <td>4646774</td>\n",
       "      <td>4646774</td>\n",
       "      <td>4646774</td>\n",
       "      <td>4646774</td>\n",
       "      <td>4646774</td>\n",
       "    </tr>\n",
       "    <tr>\n",
       "      <th>unique</th>\n",
       "      <td>1280127</td>\n",
       "      <td>3831106</td>\n",
       "      <td>5</td>\n",
       "      <td>42864</td>\n",
       "      <td>3097882</td>\n",
       "      <td>10</td>\n",
       "      <td>22</td>\n",
       "      <td>34</td>\n",
       "      <td>43</td>\n",
       "      <td>1103</td>\n",
       "      <td>...</td>\n",
       "      <td>663</td>\n",
       "      <td>82</td>\n",
       "      <td>15585</td>\n",
       "      <td>10</td>\n",
       "      <td>154511</td>\n",
       "      <td>51510</td>\n",
       "      <td>12665</td>\n",
       "      <td>67973</td>\n",
       "      <td>35316</td>\n",
       "      <td>71497</td>\n",
       "    </tr>\n",
       "    <tr>\n",
       "      <th>top</th>\n",
       "      <td>A075000041908023367242120</td>\n",
       "      <td>80580952</td>\n",
       "      <td>0</td>\n",
       "      <td>30</td>\n",
       "      <td>2017-03-04 17:18:31</td>\n",
       "      <td>0</td>\n",
       "      <td>0</td>\n",
       "      <td>0</td>\n",
       "      <td>0</td>\n",
       "      <td>1</td>\n",
       "      <td>...</td>\n",
       "      <td>45,36831264567185</td>\n",
       "      <td>52,076033757361408</td>\n",
       "      <td>0</td>\n",
       "      <td>1</td>\n",
       "      <td>4</td>\n",
       "      <td>4</td>\n",
       "      <td>4</td>\n",
       "      <td>30</td>\n",
       "      <td>0</td>\n",
       "      <td>40646</td>\n",
       "    </tr>\n",
       "    <tr>\n",
       "      <th>freq</th>\n",
       "      <td>217</td>\n",
       "      <td>2</td>\n",
       "      <td>4584151</td>\n",
       "      <td>37028</td>\n",
       "      <td>14</td>\n",
       "      <td>3483828</td>\n",
       "      <td>3593113</td>\n",
       "      <td>3593113</td>\n",
       "      <td>3593113</td>\n",
       "      <td>936673</td>\n",
       "      <td>...</td>\n",
       "      <td>202994</td>\n",
       "      <td>445066</td>\n",
       "      <td>4040408</td>\n",
       "      <td>4446255</td>\n",
       "      <td>3162537</td>\n",
       "      <td>3605264</td>\n",
       "      <td>3672048</td>\n",
       "      <td>32497</td>\n",
       "      <td>4068163</td>\n",
       "      <td>207</td>\n",
       "    </tr>\n",
       "  </tbody>\n",
       "</table>\n",
       "<p>4 rows × 23 columns</p>\n",
       "</div>"
      ],
      "text/plain": [
       "                           ZIBZIN  IDAvisAutorisationCheque  FlagImpaye  \\\n",
       "count                     4646774                   4646774     4646774   \n",
       "unique                    1280127                   3831106           5   \n",
       "top     A075000041908023367242120                  80580952           0   \n",
       "freq                          217                         2     4584151   \n",
       "\n",
       "        Montant      DateTransaction  CodeDecision  VerifianceCPT1  \\\n",
       "count   4646774              4646774       4646774         4646774   \n",
       "unique    42864              3097882            10              22   \n",
       "top          30  2017-03-04 17:18:31             0               0   \n",
       "freq      37028                   14       3483828         3593113   \n",
       "\n",
       "        VerifianceCPT2  VerifianceCPT3     D2CB  ...       TauxImpNb_RB  \\\n",
       "count          4646774         4646774  4646774  ...            4646774   \n",
       "unique              34              43     1103  ...                663   \n",
       "top                  0               0        1  ...  45,36831264567185   \n",
       "freq           3593113         3593113   936673  ...             202994   \n",
       "\n",
       "             TauxImpNB_CPM EcartNumCheq NbrMagasin3J DiffDateTr1  DiffDateTr2  \\\n",
       "count              4646774      4646774      4646774     4646774      4646774   \n",
       "unique                  82        15585           10      154511        51510   \n",
       "top     52,076033757361408            0            1           4            4   \n",
       "freq                445066      4040408      4446255     3162537      3605264   \n",
       "\n",
       "        DiffDateTr3 CA3TRetMtt    CA3TR    Heure  \n",
       "count       4646774    4646774  4646774  4646774  \n",
       "unique        12665      67973    35316    71497  \n",
       "top               4         30        0    40646  \n",
       "freq        3672048      32497  4068163      207  \n",
       "\n",
       "[4 rows x 23 columns]"
      ]
     },
     "execution_count": 7,
     "metadata": {},
     "output_type": "execute_result"
    }
   ],
   "source": [
    "df.describe()"
   ]
  },
  {
   "cell_type": "code",
   "execution_count": 8,
   "metadata": {},
   "outputs": [
    {
     "name": "stdout",
     "output_type": "stream",
     "text": [
      "<class 'pandas.core.frame.DataFrame'>\n",
      "RangeIndex: 4646774 entries, 0 to 4646773\n",
      "Data columns (total 23 columns):\n",
      " #   Column                    Dtype \n",
      "---  ------                    ----- \n",
      " 0   ZIBZIN                    object\n",
      " 1   IDAvisAutorisationCheque  object\n",
      " 2   FlagImpaye                object\n",
      " 3   Montant                   object\n",
      " 4   DateTransaction           object\n",
      " 5   CodeDecision              object\n",
      " 6   VerifianceCPT1            object\n",
      " 7   VerifianceCPT2            object\n",
      " 8   VerifianceCPT3            object\n",
      " 9   D2CB                      object\n",
      " 10  ScoringFP1                object\n",
      " 11  ScoringFP2                object\n",
      " 12  ScoringFP3                object\n",
      " 13  TauxImpNb_RB              object\n",
      " 14  TauxImpNB_CPM             object\n",
      " 15  EcartNumCheq              object\n",
      " 16  NbrMagasin3J              object\n",
      " 17  DiffDateTr1               object\n",
      " 18  DiffDateTr2               object\n",
      " 19  DiffDateTr3               object\n",
      " 20  CA3TRetMtt                object\n",
      " 21  CA3TR                     object\n",
      " 22  Heure                     object\n",
      "dtypes: object(23)\n",
      "memory usage: 815.4+ MB\n"
     ]
    }
   ],
   "source": [
    "df.info()"
   ]
  },
  {
   "cell_type": "code",
   "execution_count": 9,
   "metadata": {},
   "outputs": [],
   "source": [
    "#on supp la ligne 1956360 parce qu'elle est buggée\n",
    "df = df.drop(1956360)"
   ]
  },
  {
   "cell_type": "code",
   "execution_count": 10,
   "metadata": {},
   "outputs": [],
   "source": [
    "df['ZIBZIN'] = df['ZIBZIN'].astype(str)"
   ]
  },
  {
   "cell_type": "code",
   "execution_count": 11,
   "metadata": {},
   "outputs": [],
   "source": [
    "df['DateTransaction'] = pd.to_datetime(df['DateTransaction'], format=\"%Y-%m-%d %H:%M:%S\")"
   ]
  },
  {
   "cell_type": "code",
   "execution_count": 12,
   "metadata": {},
   "outputs": [],
   "source": [
    "df['Year'] = df['DateTransaction'].dt.year\n",
    "df['Month'] = df['DateTransaction'].dt.month\n",
    "df['Day'] = df['DateTransaction'].dt.day\n",
    "df['Hour'] = df['DateTransaction'].dt.hour\n",
    "df['Minute'] = df['DateTransaction'].dt.minute\n",
    "df['Second'] = df['DateTransaction'].dt.second"
   ]
  },
  {
   "cell_type": "code",
   "execution_count": 13,
   "metadata": {},
   "outputs": [
    {
     "name": "stdout",
     "output_type": "stream",
     "text": [
      "<class 'pandas.core.frame.DataFrame'>\n",
      "Index: 4646773 entries, 0 to 4646773\n",
      "Data columns (total 29 columns):\n",
      " #   Column                    Dtype         \n",
      "---  ------                    -----         \n",
      " 0   ZIBZIN                    object        \n",
      " 1   IDAvisAutorisationCheque  object        \n",
      " 2   FlagImpaye                object        \n",
      " 3   Montant                   object        \n",
      " 4   DateTransaction           datetime64[ns]\n",
      " 5   CodeDecision              object        \n",
      " 6   VerifianceCPT1            object        \n",
      " 7   VerifianceCPT2            object        \n",
      " 8   VerifianceCPT3            object        \n",
      " 9   D2CB                      object        \n",
      " 10  ScoringFP1                object        \n",
      " 11  ScoringFP2                object        \n",
      " 12  ScoringFP3                object        \n",
      " 13  TauxImpNb_RB              object        \n",
      " 14  TauxImpNB_CPM             object        \n",
      " 15  EcartNumCheq              object        \n",
      " 16  NbrMagasin3J              object        \n",
      " 17  DiffDateTr1               object        \n",
      " 18  DiffDateTr2               object        \n",
      " 19  DiffDateTr3               object        \n",
      " 20  CA3TRetMtt                object        \n",
      " 21  CA3TR                     object        \n",
      " 22  Heure                     object        \n",
      " 23  Year                      int32         \n",
      " 24  Month                     int32         \n",
      " 25  Day                       int32         \n",
      " 26  Hour                      int32         \n",
      " 27  Minute                    int32         \n",
      " 28  Second                    int32         \n",
      "dtypes: datetime64[ns](1), int32(6), object(22)\n",
      "memory usage: 957.2+ MB\n"
     ]
    }
   ],
   "source": [
    "df.info()"
   ]
  },
  {
   "cell_type": "code",
   "execution_count": 14,
   "metadata": {},
   "outputs": [],
   "source": [
    "colonnes_a_convertir = ['VerifianceCPT1', 'VerifianceCPT2', 'VerifianceCPT3', 'D2CB', 'EcartNumCheq', 'NbrMagasin3J','Heure']\n",
    "\n",
    "# Convertir les colonnes en type entier\n",
    "df[colonnes_a_convertir] = df[colonnes_a_convertir].astype(int)"
   ]
  },
  {
   "cell_type": "code",
   "execution_count": 15,
   "metadata": {},
   "outputs": [
    {
     "name": "stderr",
     "output_type": "stream",
     "text": [
      "C:\\Users\\marevel\\AppData\\Local\\Temp\\ipykernel_2472\\1098205633.py:3: FutureWarning: DataFrame.applymap has been deprecated. Use DataFrame.map instead.\n",
      "  df[colonnes_a_convertir2] = df[colonnes_a_convertir2].applymap(lambda x: str(x).replace(',', '.')).astype(float)\n"
     ]
    }
   ],
   "source": [
    "colonnes_a_convertir2 = ['Montant', 'ScoringFP1', 'ScoringFP2', 'ScoringFP3', 'TauxImpNb_RB', 'TauxImpNB_CPM', 'DiffDateTr1', 'DiffDateTr2', 'DiffDateTr3', 'CA3TRetMtt', 'CA3TR']\n",
    "\n",
    "df[colonnes_a_convertir2] = df[colonnes_a_convertir2].applymap(lambda x: str(x).replace(',', '.')).astype(float)"
   ]
  },
  {
   "cell_type": "code",
   "execution_count": 16,
   "metadata": {},
   "outputs": [],
   "source": [
    "df['FlagImpaye'] = df['FlagImpaye'].replace({'0': 0, '1': 1})\n",
    "# Transformez la colonne en facteur (catégorie)\n",
    "df['FlagImpaye'] = df['FlagImpaye'].astype('category')"
   ]
  },
  {
   "cell_type": "code",
   "execution_count": 19,
   "metadata": {},
   "outputs": [
    {
     "data": {
      "text/plain": [
       "(4646773, 29)"
      ]
     },
     "execution_count": 19,
     "metadata": {},
     "output_type": "execute_result"
    }
   ],
   "source": [
    "df.shape"
   ]
  },
  {
   "cell_type": "code",
   "execution_count": 20,
   "metadata": {},
   "outputs": [],
   "source": [
    "df = df.drop(columns=['ZIBZIN','IDAvisAutorisationCheque'])"
   ]
  },
  {
   "cell_type": "code",
   "execution_count": null,
   "metadata": {},
   "outputs": [],
   "source": [
    "import pickle\n",
    "\n",
    "with open('dataframe.pkl', 'wb') as file:\n",
    "    pickle.dump(df, file)"
   ]
  }
 ],
 "metadata": {
  "kernelspec": {
   "display_name": "Python 3",
   "language": "python",
   "name": "python3"
  },
  "language_info": {
   "codemirror_mode": {
    "name": "ipython",
    "version": 3
   },
   "file_extension": ".py",
   "mimetype": "text/x-python",
   "name": "python",
   "nbconvert_exporter": "python",
   "pygments_lexer": "ipython3",
   "version": "3.7.0"
  }
 },
 "nbformat": 4,
 "nbformat_minor": 2
}
