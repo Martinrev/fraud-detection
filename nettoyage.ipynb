{
 "cells": [
  {
   "cell_type": "code",
   "execution_count": 63,
   "metadata": {},
   "outputs": [],
   "source": [
    "import pandas as pd\n",
    "import matplotlib.pyplot as plt\n",
    "import seaborn as sns\n",
    "from imblearn.under_sampling import RandomUnderSampler, TomekLinks, EditedNearestNeighbours, NearMiss"
   ]
  },
  {
   "cell_type": "code",
   "execution_count": 64,
   "metadata": {},
   "outputs": [
    {
     "name": "stderr",
     "output_type": "stream",
     "text": [
      "C:\\Users\\anicoullau\\AppData\\Local\\Temp\\ipykernel_17044\\38653645.py:2: DtypeWarning: Columns (1,2,5,6,7,8,9,15,16,22) have mixed types. Specify dtype option on import or set low_memory=False.\n",
      "  data= pd.read_csv('guillaume.txt',sep=';')\n"
     ]
    },
    {
     "data": {
      "text/html": [
       "<div>\n",
       "<style scoped>\n",
       "    .dataframe tbody tr th:only-of-type {\n",
       "        vertical-align: middle;\n",
       "    }\n",
       "\n",
       "    .dataframe tbody tr th {\n",
       "        vertical-align: top;\n",
       "    }\n",
       "\n",
       "    .dataframe thead th {\n",
       "        text-align: right;\n",
       "    }\n",
       "</style>\n",
       "<table border=\"1\" class=\"dataframe\">\n",
       "  <thead>\n",
       "    <tr style=\"text-align: right;\">\n",
       "      <th></th>\n",
       "      <th>ZIBZIN</th>\n",
       "      <th>IDAvisAutorisationCheque</th>\n",
       "      <th>FlagImpaye</th>\n",
       "      <th>Montant</th>\n",
       "      <th>DateTransaction</th>\n",
       "      <th>CodeDecision</th>\n",
       "      <th>VerifianceCPT1</th>\n",
       "      <th>VerifianceCPT2</th>\n",
       "      <th>VerifianceCPT3</th>\n",
       "      <th>D2CB</th>\n",
       "      <th>...</th>\n",
       "      <th>TauxImpNb_RB</th>\n",
       "      <th>TauxImpNB_CPM</th>\n",
       "      <th>EcartNumCheq</th>\n",
       "      <th>NbrMagasin3J</th>\n",
       "      <th>DiffDateTr1</th>\n",
       "      <th>DiffDateTr2</th>\n",
       "      <th>DiffDateTr3</th>\n",
       "      <th>CA3TRetMtt</th>\n",
       "      <th>CA3TR</th>\n",
       "      <th>Heure</th>\n",
       "    </tr>\n",
       "  </thead>\n",
       "  <tbody>\n",
       "    <tr>\n",
       "      <th>0</th>\n",
       "      <td>A013010004908126703060931</td>\n",
       "      <td>78643044</td>\n",
       "      <td>0</td>\n",
       "      <td>20</td>\n",
       "      <td>2017-02-01 07:32:14</td>\n",
       "      <td>1</td>\n",
       "      <td>0</td>\n",
       "      <td>0</td>\n",
       "      <td>0</td>\n",
       "      <td>551</td>\n",
       "      <td>...</td>\n",
       "      <td>37,186667890919111</td>\n",
       "      <td>52,076033757361408</td>\n",
       "      <td>0</td>\n",
       "      <td>1</td>\n",
       "      <td>4</td>\n",
       "      <td>4</td>\n",
       "      <td>4</td>\n",
       "      <td>20</td>\n",
       "      <td>0</td>\n",
       "      <td>27134</td>\n",
       "    </tr>\n",
       "    <tr>\n",
       "      <th>1</th>\n",
       "      <td>A013011306908024927155000</td>\n",
       "      <td>78643045</td>\n",
       "      <td>0</td>\n",
       "      <td>20</td>\n",
       "      <td>2017-02-01 07:43:37</td>\n",
       "      <td>1</td>\n",
       "      <td>0</td>\n",
       "      <td>0</td>\n",
       "      <td>0</td>\n",
       "      <td>551</td>\n",
       "      <td>...</td>\n",
       "      <td>48,844716275908937</td>\n",
       "      <td>52,076033757361408</td>\n",
       "      <td>1</td>\n",
       "      <td>2</td>\n",
       "      <td>1,7976851851851852</td>\n",
       "      <td>4</td>\n",
       "      <td>4</td>\n",
       "      <td>28,609999999999999</td>\n",
       "      <td>8,6099999999999994</td>\n",
       "      <td>27817</td>\n",
       "    </tr>\n",
       "    <tr>\n",
       "      <th>2</th>\n",
       "      <td>A013010002908283134592527</td>\n",
       "      <td>78643046</td>\n",
       "      <td>0</td>\n",
       "      <td>57,640000000000001</td>\n",
       "      <td>2017-02-01 07:47:38</td>\n",
       "      <td>1</td>\n",
       "      <td>0</td>\n",
       "      <td>0</td>\n",
       "      <td>0</td>\n",
       "      <td>549</td>\n",
       "      <td>...</td>\n",
       "      <td>73,118279569892479</td>\n",
       "      <td>52,076033757361408</td>\n",
       "      <td>0</td>\n",
       "      <td>1</td>\n",
       "      <td>4</td>\n",
       "      <td>4</td>\n",
       "      <td>4</td>\n",
       "      <td>57,640000000000001</td>\n",
       "      <td>0</td>\n",
       "      <td>28058</td>\n",
       "    </tr>\n",
       "    <tr>\n",
       "      <th>3</th>\n",
       "      <td>A011010002908105209831316</td>\n",
       "      <td>78643047</td>\n",
       "      <td>0</td>\n",
       "      <td>54,289999999999999</td>\n",
       "      <td>2017-02-01 07:48:48</td>\n",
       "      <td>0</td>\n",
       "      <td>1</td>\n",
       "      <td>1</td>\n",
       "      <td>1</td>\n",
       "      <td>267</td>\n",
       "      <td>...</td>\n",
       "      <td>110,05692599620494</td>\n",
       "      <td>53,554233554497365</td>\n",
       "      <td>0</td>\n",
       "      <td>1</td>\n",
       "      <td>4</td>\n",
       "      <td>4</td>\n",
       "      <td>4</td>\n",
       "      <td>54,289999999999999</td>\n",
       "      <td>0</td>\n",
       "      <td>28128</td>\n",
       "    </tr>\n",
       "    <tr>\n",
       "      <th>4</th>\n",
       "      <td>A013010041908000125652029</td>\n",
       "      <td>78643048</td>\n",
       "      <td>0</td>\n",
       "      <td>26,899999999999999</td>\n",
       "      <td>2017-02-01 08:13:27</td>\n",
       "      <td>1</td>\n",
       "      <td>0</td>\n",
       "      <td>0</td>\n",
       "      <td>0</td>\n",
       "      <td>549</td>\n",
       "      <td>...</td>\n",
       "      <td>45,36831264567185</td>\n",
       "      <td>52,076033757361408</td>\n",
       "      <td>1</td>\n",
       "      <td>1</td>\n",
       "      <td>1,9971064814814814</td>\n",
       "      <td>4</td>\n",
       "      <td>4</td>\n",
       "      <td>59,149999999999999</td>\n",
       "      <td>32,25</td>\n",
       "      <td>29607</td>\n",
       "    </tr>\n",
       "  </tbody>\n",
       "</table>\n",
       "<p>5 rows × 23 columns</p>\n",
       "</div>"
      ],
      "text/plain": [
       "                      ZIBZIN IDAvisAutorisationCheque FlagImpaye  \\\n",
       "0  A013010004908126703060931                 78643044          0   \n",
       "1  A013011306908024927155000                 78643045          0   \n",
       "2  A013010002908283134592527                 78643046          0   \n",
       "3  A011010002908105209831316                 78643047          0   \n",
       "4  A013010041908000125652029                 78643048          0   \n",
       "\n",
       "              Montant      DateTransaction CodeDecision VerifianceCPT1  \\\n",
       "0                  20  2017-02-01 07:32:14            1              0   \n",
       "1                  20  2017-02-01 07:43:37            1              0   \n",
       "2  57,640000000000001  2017-02-01 07:47:38            1              0   \n",
       "3  54,289999999999999  2017-02-01 07:48:48            0              1   \n",
       "4  26,899999999999999  2017-02-01 08:13:27            1              0   \n",
       "\n",
       "  VerifianceCPT2 VerifianceCPT3 D2CB  ...        TauxImpNb_RB  \\\n",
       "0              0              0  551  ...  37,186667890919111   \n",
       "1              0              0  551  ...  48,844716275908937   \n",
       "2              0              0  549  ...  73,118279569892479   \n",
       "3              1              1  267  ...  110,05692599620494   \n",
       "4              0              0  549  ...   45,36831264567185   \n",
       "\n",
       "        TauxImpNB_CPM EcartNumCheq NbrMagasin3J         DiffDateTr1  \\\n",
       "0  52,076033757361408            0            1                   4   \n",
       "1  52,076033757361408            1            2  1,7976851851851852   \n",
       "2  52,076033757361408            0            1                   4   \n",
       "3  53,554233554497365            0            1                   4   \n",
       "4  52,076033757361408            1            1  1,9971064814814814   \n",
       "\n",
       "  DiffDateTr2 DiffDateTr3          CA3TRetMtt               CA3TR  Heure  \n",
       "0           4           4                  20                   0  27134  \n",
       "1           4           4  28,609999999999999  8,6099999999999994  27817  \n",
       "2           4           4  57,640000000000001                   0  28058  \n",
       "3           4           4  54,289999999999999                   0  28128  \n",
       "4           4           4  59,149999999999999               32,25  29607  \n",
       "\n",
       "[5 rows x 23 columns]"
      ]
     },
     "execution_count": 64,
     "metadata": {},
     "output_type": "execute_result"
    }
   ],
   "source": [
    "#Importation des données guillaume.txt et création dataframe\n",
    "data= pd.read_csv('guillaume.txt',sep=';')\n",
    "data.head()"
   ]
  },
  {
   "cell_type": "code",
   "execution_count": 65,
   "metadata": {},
   "outputs": [
    {
     "name": "stdout",
     "output_type": "stream",
     "text": [
      "<class 'pandas.core.frame.DataFrame'>\n",
      "RangeIndex: 4646774 entries, 0 to 4646773\n",
      "Data columns (total 23 columns):\n",
      " #   Column                    Dtype \n",
      "---  ------                    ----- \n",
      " 0   ZIBZIN                    object\n",
      " 1   IDAvisAutorisationCheque  object\n",
      " 2   FlagImpaye                object\n",
      " 3   Montant                   object\n",
      " 4   DateTransaction           object\n",
      " 5   CodeDecision              object\n",
      " 6   VerifianceCPT1            object\n",
      " 7   VerifianceCPT2            object\n",
      " 8   VerifianceCPT3            object\n",
      " 9   D2CB                      object\n",
      " 10  ScoringFP1                object\n",
      " 11  ScoringFP2                object\n",
      " 12  ScoringFP3                object\n",
      " 13  TauxImpNb_RB              object\n",
      " 14  TauxImpNB_CPM             object\n",
      " 15  EcartNumCheq              object\n",
      " 16  NbrMagasin3J              object\n",
      " 17  DiffDateTr1               object\n",
      " 18  DiffDateTr2               object\n",
      " 19  DiffDateTr3               object\n",
      " 20  CA3TRetMtt                object\n",
      " 21  CA3TR                     object\n",
      " 22  Heure                     object\n",
      "dtypes: object(23)\n",
      "memory usage: 815.4+ MB\n",
      "None\n"
     ]
    }
   ],
   "source": [
    "print(data.info())"
   ]
  },
  {
   "cell_type": "markdown",
   "metadata": {},
   "source": [
    "# Nettoyage des données:"
   ]
  },
  {
   "cell_type": "markdown",
   "metadata": {},
   "source": [
    "Suppression de la ligne 1956360"
   ]
  },
  {
   "cell_type": "code",
   "execution_count": 66,
   "metadata": {},
   "outputs": [],
   "source": [
    "data = data.drop(1956360)"
   ]
  },
  {
   "cell_type": "markdown",
   "metadata": {},
   "source": [
    "Retypage des colonnes"
   ]
  },
  {
   "cell_type": "code",
   "execution_count": 67,
   "metadata": {},
   "outputs": [],
   "source": [
    "data['ZIBZIN'] = data['ZIBZIN'].astype(str)"
   ]
  },
  {
   "cell_type": "code",
   "execution_count": 68,
   "metadata": {},
   "outputs": [],
   "source": [
    "data['DateTransaction'] = pd.to_datetime(data['DateTransaction'], format=\"%Y-%m-%d %H:%M:%S\")\n"
   ]
  },
  {
   "cell_type": "code",
   "execution_count": 69,
   "metadata": {},
   "outputs": [],
   "source": [
    "data['Year'] = data['DateTransaction'].dt.year\n",
    "data['Month'] = data['DateTransaction'].dt.month\n",
    "data['Day'] = data['DateTransaction'].dt.day\n",
    "data['Hour'] = data['DateTransaction'].dt.hour\n",
    "data['Minute'] = data['DateTransaction'].dt.minute\n",
    "data['Second'] = data['DateTransaction'].dt.second"
   ]
  },
  {
   "cell_type": "code",
   "execution_count": 70,
   "metadata": {},
   "outputs": [],
   "source": [
    "entiers = ['VerifianceCPT1', 'VerifianceCPT2', 'VerifianceCPT3', 'D2CB', 'EcartNumCheq', 'NbrMagasin3J','Heure','CodeDecision']\n",
    "\n",
    "# Convertir les colonnes en type entier\n",
    "data[entiers] = data[entiers].astype(int)"
   ]
  },
  {
   "cell_type": "code",
   "execution_count": 71,
   "metadata": {},
   "outputs": [
    {
     "name": "stderr",
     "output_type": "stream",
     "text": [
      "C:\\Users\\anicoullau\\AppData\\Local\\Temp\\ipykernel_17044\\3100941527.py:3: FutureWarning: DataFrame.applymap has been deprecated. Use DataFrame.map instead.\n",
      "  data[reels] = data[reels].applymap(lambda x: str(x).replace(',', '.')).astype(float)\n"
     ]
    }
   ],
   "source": [
    "reels = ['Montant', 'ScoringFP1', 'ScoringFP2', 'ScoringFP3', 'TauxImpNb_RB', 'TauxImpNB_CPM', 'DiffDateTr1', 'DiffDateTr2', 'DiffDateTr3', 'CA3TRetMtt', 'CA3TR']\n",
    "\n",
    "data[reels] = data[reels].applymap(lambda x: str(x).replace(',', '.')).astype(float)"
   ]
  },
  {
   "cell_type": "code",
   "execution_count": 72,
   "metadata": {},
   "outputs": [],
   "source": [
    "data['FlagImpaye'] = data['FlagImpaye'].replace({'0': 0, '1': 1})\n",
    "# Transformez la colonne en facteur (catégorie)\n",
    "data['FlagImpaye'] = data['FlagImpaye'].astype('category')"
   ]
  },
  {
   "cell_type": "code",
   "execution_count": 73,
   "metadata": {},
   "outputs": [
    {
     "data": {
      "text/plain": [
       "ZIBZIN                              object\n",
       "IDAvisAutorisationCheque            object\n",
       "FlagImpaye                        category\n",
       "Montant                            float64\n",
       "DateTransaction             datetime64[ns]\n",
       "CodeDecision                         int32\n",
       "VerifianceCPT1                       int32\n",
       "VerifianceCPT2                       int32\n",
       "VerifianceCPT3                       int32\n",
       "D2CB                                 int32\n",
       "ScoringFP1                         float64\n",
       "ScoringFP2                         float64\n",
       "ScoringFP3                         float64\n",
       "TauxImpNb_RB                       float64\n",
       "TauxImpNB_CPM                      float64\n",
       "EcartNumCheq                         int32\n",
       "NbrMagasin3J                         int32\n",
       "DiffDateTr1                        float64\n",
       "DiffDateTr2                        float64\n",
       "DiffDateTr3                        float64\n",
       "CA3TRetMtt                         float64\n",
       "CA3TR                              float64\n",
       "Heure                                int32\n",
       "Year                                 int32\n",
       "Month                                int32\n",
       "Day                                  int32\n",
       "Hour                                 int32\n",
       "Minute                               int32\n",
       "Second                               int32\n",
       "dtype: object"
      ]
     },
     "execution_count": 73,
     "metadata": {},
     "output_type": "execute_result"
    }
   ],
   "source": [
    "data.dtypes"
   ]
  },
  {
   "cell_type": "markdown",
   "metadata": {},
   "source": [
    "Suppression de colonnes"
   ]
  },
  {
   "cell_type": "code",
   "execution_count": 74,
   "metadata": {},
   "outputs": [],
   "source": [
    "data = data.drop(columns=['ZIBZIN','IDAvisAutorisationCheque'])"
   ]
  },
  {
   "cell_type": "code",
   "execution_count": 75,
   "metadata": {},
   "outputs": [
    {
     "data": {
      "text/html": [
       "<div>\n",
       "<style scoped>\n",
       "    .dataframe tbody tr th:only-of-type {\n",
       "        vertical-align: middle;\n",
       "    }\n",
       "\n",
       "    .dataframe tbody tr th {\n",
       "        vertical-align: top;\n",
       "    }\n",
       "\n",
       "    .dataframe thead th {\n",
       "        text-align: right;\n",
       "    }\n",
       "</style>\n",
       "<table border=\"1\" class=\"dataframe\">\n",
       "  <thead>\n",
       "    <tr style=\"text-align: right;\">\n",
       "      <th></th>\n",
       "      <th>FlagImpaye</th>\n",
       "      <th>Montant</th>\n",
       "      <th>DateTransaction</th>\n",
       "      <th>CodeDecision</th>\n",
       "      <th>VerifianceCPT1</th>\n",
       "      <th>VerifianceCPT2</th>\n",
       "      <th>VerifianceCPT3</th>\n",
       "      <th>D2CB</th>\n",
       "      <th>ScoringFP1</th>\n",
       "      <th>ScoringFP2</th>\n",
       "      <th>...</th>\n",
       "      <th>DiffDateTr3</th>\n",
       "      <th>CA3TRetMtt</th>\n",
       "      <th>CA3TR</th>\n",
       "      <th>Heure</th>\n",
       "      <th>Year</th>\n",
       "      <th>Month</th>\n",
       "      <th>Day</th>\n",
       "      <th>Hour</th>\n",
       "      <th>Minute</th>\n",
       "      <th>Second</th>\n",
       "    </tr>\n",
       "  </thead>\n",
       "  <tbody>\n",
       "    <tr>\n",
       "      <th>0</th>\n",
       "      <td>0</td>\n",
       "      <td>20.00</td>\n",
       "      <td>2017-02-01 07:32:14</td>\n",
       "      <td>1</td>\n",
       "      <td>0</td>\n",
       "      <td>0</td>\n",
       "      <td>0</td>\n",
       "      <td>551</td>\n",
       "      <td>0.000000</td>\n",
       "      <td>0.000000</td>\n",
       "      <td>...</td>\n",
       "      <td>4.0</td>\n",
       "      <td>20.00</td>\n",
       "      <td>0.00</td>\n",
       "      <td>27134</td>\n",
       "      <td>2017</td>\n",
       "      <td>2</td>\n",
       "      <td>1</td>\n",
       "      <td>7</td>\n",
       "      <td>32</td>\n",
       "      <td>14</td>\n",
       "    </tr>\n",
       "    <tr>\n",
       "      <th>1</th>\n",
       "      <td>0</td>\n",
       "      <td>20.00</td>\n",
       "      <td>2017-02-01 07:43:37</td>\n",
       "      <td>1</td>\n",
       "      <td>0</td>\n",
       "      <td>0</td>\n",
       "      <td>0</td>\n",
       "      <td>551</td>\n",
       "      <td>0.000000</td>\n",
       "      <td>0.000000</td>\n",
       "      <td>...</td>\n",
       "      <td>4.0</td>\n",
       "      <td>28.61</td>\n",
       "      <td>8.61</td>\n",
       "      <td>27817</td>\n",
       "      <td>2017</td>\n",
       "      <td>2</td>\n",
       "      <td>1</td>\n",
       "      <td>7</td>\n",
       "      <td>43</td>\n",
       "      <td>37</td>\n",
       "    </tr>\n",
       "    <tr>\n",
       "      <th>2</th>\n",
       "      <td>0</td>\n",
       "      <td>57.64</td>\n",
       "      <td>2017-02-01 07:47:38</td>\n",
       "      <td>1</td>\n",
       "      <td>0</td>\n",
       "      <td>0</td>\n",
       "      <td>0</td>\n",
       "      <td>549</td>\n",
       "      <td>0.000000</td>\n",
       "      <td>0.000000</td>\n",
       "      <td>...</td>\n",
       "      <td>4.0</td>\n",
       "      <td>57.64</td>\n",
       "      <td>0.00</td>\n",
       "      <td>28058</td>\n",
       "      <td>2017</td>\n",
       "      <td>2</td>\n",
       "      <td>1</td>\n",
       "      <td>7</td>\n",
       "      <td>47</td>\n",
       "      <td>38</td>\n",
       "    </tr>\n",
       "    <tr>\n",
       "      <th>3</th>\n",
       "      <td>0</td>\n",
       "      <td>54.29</td>\n",
       "      <td>2017-02-01 07:48:48</td>\n",
       "      <td>0</td>\n",
       "      <td>1</td>\n",
       "      <td>1</td>\n",
       "      <td>1</td>\n",
       "      <td>267</td>\n",
       "      <td>0.000000</td>\n",
       "      <td>0.000000</td>\n",
       "      <td>...</td>\n",
       "      <td>4.0</td>\n",
       "      <td>54.29</td>\n",
       "      <td>0.00</td>\n",
       "      <td>28128</td>\n",
       "      <td>2017</td>\n",
       "      <td>2</td>\n",
       "      <td>1</td>\n",
       "      <td>7</td>\n",
       "      <td>48</td>\n",
       "      <td>48</td>\n",
       "    </tr>\n",
       "    <tr>\n",
       "      <th>4</th>\n",
       "      <td>0</td>\n",
       "      <td>26.90</td>\n",
       "      <td>2017-02-01 08:13:27</td>\n",
       "      <td>1</td>\n",
       "      <td>0</td>\n",
       "      <td>0</td>\n",
       "      <td>0</td>\n",
       "      <td>549</td>\n",
       "      <td>0.003769</td>\n",
       "      <td>8.586333</td>\n",
       "      <td>...</td>\n",
       "      <td>4.0</td>\n",
       "      <td>59.15</td>\n",
       "      <td>32.25</td>\n",
       "      <td>29607</td>\n",
       "      <td>2017</td>\n",
       "      <td>2</td>\n",
       "      <td>1</td>\n",
       "      <td>8</td>\n",
       "      <td>13</td>\n",
       "      <td>27</td>\n",
       "    </tr>\n",
       "  </tbody>\n",
       "</table>\n",
       "<p>5 rows × 27 columns</p>\n",
       "</div>"
      ],
      "text/plain": [
       "  FlagImpaye  Montant     DateTransaction  CodeDecision  VerifianceCPT1  \\\n",
       "0          0    20.00 2017-02-01 07:32:14             1               0   \n",
       "1          0    20.00 2017-02-01 07:43:37             1               0   \n",
       "2          0    57.64 2017-02-01 07:47:38             1               0   \n",
       "3          0    54.29 2017-02-01 07:48:48             0               1   \n",
       "4          0    26.90 2017-02-01 08:13:27             1               0   \n",
       "\n",
       "   VerifianceCPT2  VerifianceCPT3  D2CB  ScoringFP1  ScoringFP2  ...  \\\n",
       "0               0               0   551    0.000000    0.000000  ...   \n",
       "1               0               0   551    0.000000    0.000000  ...   \n",
       "2               0               0   549    0.000000    0.000000  ...   \n",
       "3               1               1   267    0.000000    0.000000  ...   \n",
       "4               0               0   549    0.003769    8.586333  ...   \n",
       "\n",
       "   DiffDateTr3  CA3TRetMtt  CA3TR  Heure  Year  Month  Day  Hour  Minute  \\\n",
       "0          4.0       20.00   0.00  27134  2017      2    1     7      32   \n",
       "1          4.0       28.61   8.61  27817  2017      2    1     7      43   \n",
       "2          4.0       57.64   0.00  28058  2017      2    1     7      47   \n",
       "3          4.0       54.29   0.00  28128  2017      2    1     7      48   \n",
       "4          4.0       59.15  32.25  29607  2017      2    1     8      13   \n",
       "\n",
       "   Second  \n",
       "0      14  \n",
       "1      37  \n",
       "2      38  \n",
       "3      48  \n",
       "4      27  \n",
       "\n",
       "[5 rows x 27 columns]"
      ]
     },
     "execution_count": 75,
     "metadata": {},
     "output_type": "execute_result"
    }
   ],
   "source": [
    "data.head()"
   ]
  },
  {
   "cell_type": "markdown",
   "metadata": {},
   "source": [
    "Données manquantes: aucunes"
   ]
  },
  {
   "cell_type": "code",
   "execution_count": 76,
   "metadata": {},
   "outputs": [
    {
     "name": "stdout",
     "output_type": "stream",
     "text": [
      "FlagImpaye         0\n",
      "Montant            0\n",
      "DateTransaction    0\n",
      "CodeDecision       0\n",
      "VerifianceCPT1     0\n",
      "VerifianceCPT2     0\n",
      "VerifianceCPT3     0\n",
      "D2CB               0\n",
      "ScoringFP1         0\n",
      "ScoringFP2         0\n",
      "ScoringFP3         0\n",
      "TauxImpNb_RB       0\n",
      "TauxImpNB_CPM      0\n",
      "EcartNumCheq       0\n",
      "NbrMagasin3J       0\n",
      "DiffDateTr1        0\n",
      "DiffDateTr2        0\n",
      "DiffDateTr3        0\n",
      "CA3TRetMtt         0\n",
      "CA3TR              0\n",
      "Heure              0\n",
      "Year               0\n",
      "Month              0\n",
      "Day                0\n",
      "Hour               0\n",
      "Minute             0\n",
      "Second             0\n",
      "dtype: int64\n"
     ]
    }
   ],
   "source": [
    "print(data.isnull().sum())"
   ]
  },
  {
   "cell_type": "code",
   "execution_count": 77,
   "metadata": {},
   "outputs": [
    {
     "name": "stdout",
     "output_type": "stream",
     "text": [
      "FlagImpaye         0\n",
      "Montant            0\n",
      "DateTransaction    0\n",
      "CodeDecision       0\n",
      "VerifianceCPT1     0\n",
      "VerifianceCPT2     0\n",
      "VerifianceCPT3     0\n",
      "D2CB               0\n",
      "ScoringFP1         0\n",
      "ScoringFP2         0\n",
      "ScoringFP3         0\n",
      "TauxImpNb_RB       0\n",
      "TauxImpNB_CPM      0\n",
      "EcartNumCheq       0\n",
      "NbrMagasin3J       0\n",
      "DiffDateTr1        0\n",
      "DiffDateTr2        0\n",
      "DiffDateTr3        0\n",
      "CA3TRetMtt         0\n",
      "CA3TR              0\n",
      "Heure              0\n",
      "Year               0\n",
      "Month              0\n",
      "Day                0\n",
      "Hour               0\n",
      "Minute             0\n",
      "Second             0\n",
      "dtype: int64\n"
     ]
    }
   ],
   "source": [
    "print(data.isna().sum())"
   ]
  },
  {
   "cell_type": "markdown",
   "metadata": {},
   "source": [
    "Distribution des classes"
   ]
  },
  {
   "cell_type": "code",
   "execution_count": 78,
   "metadata": {},
   "outputs": [
    {
     "name": "stdout",
     "output_type": "stream",
     "text": [
      "FlagImpaye\n",
      "0    4616778\n",
      "1      29995\n",
      "Name: count, dtype: int64\n"
     ]
    }
   ],
   "source": [
    "classe= data['FlagImpaye'].value_counts()\n",
    "print(classe)"
   ]
  },
  {
   "cell_type": "code",
   "execution_count": 79,
   "metadata": {},
   "outputs": [
    {
     "name": "stdout",
     "output_type": "stream",
     "text": [
      "Pourcentage de classe 0 : 99.35%\n",
      "Pourcentage de classe 1 : 0.65%\n"
     ]
    }
   ],
   "source": [
    "# Calcul du pourcentage de chaque classe\n",
    "pourcentage_classe_0 = round((classe[0] / len(data)) * 100,2)\n",
    "pourcentage_classe_1 = round((classe[1] / len(data)) * 100, 2)\n",
    "\n",
    "print(f'Pourcentage de classe 0 : {pourcentage_classe_0}%')\n",
    "print(f'Pourcentage de classe 1 : {pourcentage_classe_1}%')\n"
   ]
  },
  {
   "cell_type": "markdown",
   "metadata": {},
   "source": [
    "# Extraction du fichier nettoyé au format pickle:"
   ]
  },
  {
   "cell_type": "code",
   "execution_count": 80,
   "metadata": {},
   "outputs": [],
   "source": [
    "import pickle\n",
    "\n",
    "with open('dataframe.pkl', 'wb') as file:\n",
    "    pickle.dump(data, file)"
   ]
  }
 ],
 "metadata": {
  "kernelspec": {
   "display_name": "Python 3",
   "language": "python",
   "name": "python3"
  },
  "language_info": {
   "codemirror_mode": {
    "name": "ipython",
    "version": 3
   },
   "file_extension": ".py",
   "mimetype": "text/x-python",
   "name": "python",
   "nbconvert_exporter": "python",
   "pygments_lexer": "ipython3",
   "version": "3.11.4"
  }
 },
 "nbformat": 4,
 "nbformat_minor": 2
}
