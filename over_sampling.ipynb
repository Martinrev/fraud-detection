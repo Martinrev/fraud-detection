{
 "cells": [
  {
   "cell_type": "code",
   "execution_count": 90,
   "metadata": {},
   "outputs": [],
   "source": [
    "import pickle\n",
    "\n",
    "with open('dataframe.pkl', 'rb') as file:\n",
    "    df = pickle.load(file)"
   ]
  },
  {
   "cell_type": "markdown",
   "metadata": {},
   "source": [
    "## EDA Rapide"
   ]
  },
  {
   "cell_type": "code",
   "execution_count": 91,
   "metadata": {},
   "outputs": [],
   "source": [
    "import matplotlib.pyplot as plt"
   ]
  },
  {
   "cell_type": "code",
   "execution_count": 92,
   "metadata": {},
   "outputs": [
    {
     "data": {
      "text/html": [
       "<div>\n",
       "<style scoped>\n",
       "    .dataframe tbody tr th:only-of-type {\n",
       "        vertical-align: middle;\n",
       "    }\n",
       "\n",
       "    .dataframe tbody tr th {\n",
       "        vertical-align: top;\n",
       "    }\n",
       "\n",
       "    .dataframe thead th {\n",
       "        text-align: right;\n",
       "    }\n",
       "</style>\n",
       "<table border=\"1\" class=\"dataframe\">\n",
       "  <thead>\n",
       "    <tr style=\"text-align: right;\">\n",
       "      <th></th>\n",
       "      <th>FlagImpaye</th>\n",
       "      <th>Montant</th>\n",
       "      <th>DateTransaction</th>\n",
       "      <th>CodeDecision</th>\n",
       "      <th>VerifianceCPT1</th>\n",
       "      <th>VerifianceCPT2</th>\n",
       "      <th>VerifianceCPT3</th>\n",
       "      <th>D2CB</th>\n",
       "      <th>ScoringFP1</th>\n",
       "      <th>ScoringFP2</th>\n",
       "      <th>...</th>\n",
       "      <th>DiffDateTr3</th>\n",
       "      <th>CA3TRetMtt</th>\n",
       "      <th>CA3TR</th>\n",
       "      <th>Heure</th>\n",
       "      <th>Year</th>\n",
       "      <th>Month</th>\n",
       "      <th>Day</th>\n",
       "      <th>Hour</th>\n",
       "      <th>Minute</th>\n",
       "      <th>Second</th>\n",
       "    </tr>\n",
       "  </thead>\n",
       "  <tbody>\n",
       "    <tr>\n",
       "      <th>0</th>\n",
       "      <td>0</td>\n",
       "      <td>20.00</td>\n",
       "      <td>2017-02-01 07:32:14</td>\n",
       "      <td>1</td>\n",
       "      <td>0</td>\n",
       "      <td>0</td>\n",
       "      <td>0</td>\n",
       "      <td>551</td>\n",
       "      <td>0.000000</td>\n",
       "      <td>0.000000</td>\n",
       "      <td>...</td>\n",
       "      <td>4.0</td>\n",
       "      <td>20.00</td>\n",
       "      <td>0.00</td>\n",
       "      <td>27134</td>\n",
       "      <td>2017</td>\n",
       "      <td>2</td>\n",
       "      <td>1</td>\n",
       "      <td>7</td>\n",
       "      <td>32</td>\n",
       "      <td>14</td>\n",
       "    </tr>\n",
       "    <tr>\n",
       "      <th>1</th>\n",
       "      <td>0</td>\n",
       "      <td>20.00</td>\n",
       "      <td>2017-02-01 07:43:37</td>\n",
       "      <td>1</td>\n",
       "      <td>0</td>\n",
       "      <td>0</td>\n",
       "      <td>0</td>\n",
       "      <td>551</td>\n",
       "      <td>0.000000</td>\n",
       "      <td>0.000000</td>\n",
       "      <td>...</td>\n",
       "      <td>4.0</td>\n",
       "      <td>28.61</td>\n",
       "      <td>8.61</td>\n",
       "      <td>27817</td>\n",
       "      <td>2017</td>\n",
       "      <td>2</td>\n",
       "      <td>1</td>\n",
       "      <td>7</td>\n",
       "      <td>43</td>\n",
       "      <td>37</td>\n",
       "    </tr>\n",
       "    <tr>\n",
       "      <th>2</th>\n",
       "      <td>0</td>\n",
       "      <td>57.64</td>\n",
       "      <td>2017-02-01 07:47:38</td>\n",
       "      <td>1</td>\n",
       "      <td>0</td>\n",
       "      <td>0</td>\n",
       "      <td>0</td>\n",
       "      <td>549</td>\n",
       "      <td>0.000000</td>\n",
       "      <td>0.000000</td>\n",
       "      <td>...</td>\n",
       "      <td>4.0</td>\n",
       "      <td>57.64</td>\n",
       "      <td>0.00</td>\n",
       "      <td>28058</td>\n",
       "      <td>2017</td>\n",
       "      <td>2</td>\n",
       "      <td>1</td>\n",
       "      <td>7</td>\n",
       "      <td>47</td>\n",
       "      <td>38</td>\n",
       "    </tr>\n",
       "    <tr>\n",
       "      <th>3</th>\n",
       "      <td>0</td>\n",
       "      <td>54.29</td>\n",
       "      <td>2017-02-01 07:48:48</td>\n",
       "      <td>0</td>\n",
       "      <td>1</td>\n",
       "      <td>1</td>\n",
       "      <td>1</td>\n",
       "      <td>267</td>\n",
       "      <td>0.000000</td>\n",
       "      <td>0.000000</td>\n",
       "      <td>...</td>\n",
       "      <td>4.0</td>\n",
       "      <td>54.29</td>\n",
       "      <td>0.00</td>\n",
       "      <td>28128</td>\n",
       "      <td>2017</td>\n",
       "      <td>2</td>\n",
       "      <td>1</td>\n",
       "      <td>7</td>\n",
       "      <td>48</td>\n",
       "      <td>48</td>\n",
       "    </tr>\n",
       "    <tr>\n",
       "      <th>4</th>\n",
       "      <td>0</td>\n",
       "      <td>26.90</td>\n",
       "      <td>2017-02-01 08:13:27</td>\n",
       "      <td>1</td>\n",
       "      <td>0</td>\n",
       "      <td>0</td>\n",
       "      <td>0</td>\n",
       "      <td>549</td>\n",
       "      <td>0.003769</td>\n",
       "      <td>8.586333</td>\n",
       "      <td>...</td>\n",
       "      <td>4.0</td>\n",
       "      <td>59.15</td>\n",
       "      <td>32.25</td>\n",
       "      <td>29607</td>\n",
       "      <td>2017</td>\n",
       "      <td>2</td>\n",
       "      <td>1</td>\n",
       "      <td>8</td>\n",
       "      <td>13</td>\n",
       "      <td>27</td>\n",
       "    </tr>\n",
       "  </tbody>\n",
       "</table>\n",
       "<p>5 rows × 27 columns</p>\n",
       "</div>"
      ],
      "text/plain": [
       "  FlagImpaye  Montant     DateTransaction CodeDecision  VerifianceCPT1  \\\n",
       "0          0    20.00 2017-02-01 07:32:14            1               0   \n",
       "1          0    20.00 2017-02-01 07:43:37            1               0   \n",
       "2          0    57.64 2017-02-01 07:47:38            1               0   \n",
       "3          0    54.29 2017-02-01 07:48:48            0               1   \n",
       "4          0    26.90 2017-02-01 08:13:27            1               0   \n",
       "\n",
       "   VerifianceCPT2  VerifianceCPT3  D2CB  ScoringFP1  ScoringFP2  ...  \\\n",
       "0               0               0   551    0.000000    0.000000  ...   \n",
       "1               0               0   551    0.000000    0.000000  ...   \n",
       "2               0               0   549    0.000000    0.000000  ...   \n",
       "3               1               1   267    0.000000    0.000000  ...   \n",
       "4               0               0   549    0.003769    8.586333  ...   \n",
       "\n",
       "   DiffDateTr3  CA3TRetMtt  CA3TR  Heure  Year  Month  Day  Hour  Minute  \\\n",
       "0          4.0       20.00   0.00  27134  2017      2    1     7      32   \n",
       "1          4.0       28.61   8.61  27817  2017      2    1     7      43   \n",
       "2          4.0       57.64   0.00  28058  2017      2    1     7      47   \n",
       "3          4.0       54.29   0.00  28128  2017      2    1     7      48   \n",
       "4          4.0       59.15  32.25  29607  2017      2    1     8      13   \n",
       "\n",
       "   Second  \n",
       "0      14  \n",
       "1      37  \n",
       "2      38  \n",
       "3      48  \n",
       "4      27  \n",
       "\n",
       "[5 rows x 27 columns]"
      ]
     },
     "execution_count": 92,
     "metadata": {},
     "output_type": "execute_result"
    }
   ],
   "source": [
    "df.head()"
   ]
  },
  {
   "cell_type": "code",
   "execution_count": 93,
   "metadata": {},
   "outputs": [
    {
     "name": "stdout",
     "output_type": "stream",
     "text": [
      "            Fréquence\n",
      "FlagImpaye           \n",
      "0            0.993545\n",
      "1            0.006455\n"
     ]
    }
   ],
   "source": [
    "import pandas as pd\n",
    "\n",
    "table_frequence = df['FlagImpaye'].value_counts()\n",
    "\n",
    "# Convertissez la série en DataFrame pour une meilleure présentation\n",
    "table_frequence_df = pd.DataFrame(table_frequence)\n",
    "\n",
    "# Donnez un nom approprié à la colonne\n",
    "table_frequence_df.columns = ['Fréquence']\n",
    "\n",
    "table_frequence_df['Fréquence'] = table_frequence_df['Fréquence'] / table_frequence_df['Fréquence'].sum()\n",
    "# Affichez le DataFrame de la table de fréquence\n",
    "print(table_frequence_df)\n"
   ]
  },
  {
   "cell_type": "code",
   "execution_count": 94,
   "metadata": {},
   "outputs": [
    {
     "data": {
      "text/plain": [
       "<Axes: title={'center': 'Count (target)'}, xlabel='FlagImpaye'>"
      ]
     },
     "execution_count": 94,
     "metadata": {},
     "output_type": "execute_result"
    },
    {
     "data": {
      "image/png": "[encoded data removed]",
      "text/plain": [
       "<Figure size 640x480 with 1 Axes>"
      ]
     },
     "metadata": {},
     "output_type": "display_data"
    }
   ],
   "source": [
    "table_frequence.plot(kind='bar', title='Count (target)')"
   ]
  },
  {
   "cell_type": "markdown",
   "metadata": {},
   "source": [
    "Les données sont fortements déséquilibrées pour la valeur cible 'FlagImpaye'"
   ]
  },
  {
   "cell_type": "code",
   "execution_count": 95,
   "metadata": {},
   "outputs": [
    {
     "data": {
      "text/plain": [
       "FlagImpaye               category\n",
       "Montant                   float64\n",
       "DateTransaction    datetime64[ns]\n",
       "CodeDecision               object\n",
       "VerifianceCPT1              int32\n",
       "VerifianceCPT2              int32\n",
       "VerifianceCPT3              int32\n",
       "D2CB                        int32\n",
       "ScoringFP1                float64\n",
       "ScoringFP2                float64\n",
       "ScoringFP3                float64\n",
       "TauxImpNb_RB              float64\n",
       "TauxImpNB_CPM             float64\n",
       "EcartNumCheq                int32\n",
       "NbrMagasin3J                int32\n",
       "DiffDateTr1               float64\n",
       "DiffDateTr2               float64\n",
       "DiffDateTr3               float64\n",
       "CA3TRetMtt                float64\n",
       "CA3TR                     float64\n",
       "Heure                       int32\n",
       "Year                        int32\n",
       "Month                       int32\n",
       "Day                         int32\n",
       "Hour                        int32\n",
       "Minute                      int32\n",
       "Second                      int32\n",
       "dtype: object"
      ]
     },
     "execution_count": 95,
     "metadata": {},
     "output_type": "execute_result"
    }
   ],
   "source": [
    "df.dtypes"
   ]
  },
  {
   "cell_type": "markdown",
   "metadata": {},
   "source": [
    "### Je veux diminuer la taille du dataframe car il est bcp trop lourd. Je garde la même proportion de classe de 'FlagImpaye'"
   ]
  },
  {
   "cell_type": "code",
   "execution_count": 96,
   "metadata": {},
   "outputs": [
    {
     "name": "stdout",
     "output_type": "stream",
     "text": [
      "Taille du sous-DataFrame de test : 464678\n"
     ]
    }
   ],
   "source": [
    "from sklearn.model_selection import train_test_split\n",
    "\n",
    "# Séparez les données en fonction de la variable 'Flagimpaye'\n",
    "df_pas_utilise, df_reduit = train_test_split(df, test_size=0.1, stratify=df['FlagImpaye'], random_state=42)\n",
    "\n",
    "# Affichez la taille du sous-DataFrame de test pour vérifier\n",
    "print(\"Taille du sous-DataFrame de test :\", len(df_reduit))\n"
   ]
  },
  {
   "cell_type": "code",
   "execution_count": 97,
   "metadata": {},
   "outputs": [
    {
     "name": "stdout",
     "output_type": "stream",
     "text": [
      "            Fréquence\n",
      "FlagImpaye           \n",
      "0            0.993544\n",
      "1            0.006456\n"
     ]
    }
   ],
   "source": [
    "table_frequence = df_reduit['FlagImpaye'].value_counts()\n",
    "\n",
    "# Convertissez la série en DataFrame pour une meilleure présentation\n",
    "table_frequence_df = pd.DataFrame(table_frequence)\n",
    "\n",
    "# Donnez un nom approprié à la colonne\n",
    "table_frequence_df.columns = ['Fréquence']\n",
    "\n",
    "table_frequence_df['Fréquence'] = table_frequence_df['Fréquence'] / table_frequence_df['Fréquence'].sum()\n",
    "# Affichez le DataFrame de la table de fréquence\n",
    "print(table_frequence_df)"
   ]
  },
  {
   "cell_type": "code",
   "execution_count": 102,
   "metadata": {},
   "outputs": [
    {
     "name": "stdout",
     "output_type": "stream",
     "text": [
      "<class 'pandas.core.frame.DataFrame'>\n",
      "Index: 464678 entries, 1628857 to 3285815\n",
      "Data columns (total 27 columns):\n",
      " #   Column           Non-Null Count   Dtype         \n",
      "---  ------           --------------   -----         \n",
      " 0   FlagImpaye       464678 non-null  category      \n",
      " 1   Montant          464678 non-null  float64       \n",
      " 2   DateTransaction  464678 non-null  datetime64[ns]\n",
      " 3   CodeDecision     464678 non-null  object        \n",
      " 4   VerifianceCPT1   464678 non-null  int32         \n",
      " 5   VerifianceCPT2   464678 non-null  int32         \n",
      " 6   VerifianceCPT3   464678 non-null  int32         \n",
      " 7   D2CB             464678 non-null  int32         \n",
      " 8   ScoringFP1       464678 non-null  float64       \n",
      " 9   ScoringFP2       464678 non-null  float64       \n",
      " 10  ScoringFP3       464678 non-null  float64       \n",
      " 11  TauxImpNb_RB     464678 non-null  float64       \n",
      " 12  TauxImpNB_CPM    464678 non-null  float64       \n",
      " 13  EcartNumCheq     464678 non-null  int32         \n",
      " 14  NbrMagasin3J     464678 non-null  int32         \n",
      " 15  DiffDateTr1      464678 non-null  float64       \n",
      " 16  DiffDateTr2      464678 non-null  float64       \n",
      " 17  DiffDateTr3      464678 non-null  float64       \n",
      " 18  CA3TRetMtt       464678 non-null  float64       \n",
      " 19  CA3TR            464678 non-null  float64       \n",
      " 20  Heure            464678 non-null  int32         \n",
      " 21  Year             464678 non-null  int32         \n",
      " 22  Month            464678 non-null  int32         \n",
      " 23  Day              464678 non-null  int32         \n",
      " 24  Hour             464678 non-null  int32         \n",
      " 25  Minute           464678 non-null  int32         \n",
      " 26  Second           464678 non-null  int32         \n",
      "dtypes: category(1), datetime64[ns](1), float64(11), int32(13), object(1)\n",
      "memory usage: 73.1+ MB\n"
     ]
    }
   ],
   "source": [
    "df_reduit.info()"
   ]
  },
  {
   "cell_type": "markdown",
   "metadata": {},
   "source": [
    "### On définit la partie Train et Test"
   ]
  },
  {
   "cell_type": "code",
   "execution_count": 98,
   "metadata": {},
   "outputs": [],
   "source": [
    "# Définition des dates limites pour les ensembles d'apprentissage et de test\n",
    "train_inf = '2017-02-01'\n",
    "train_sup = '2017-08-31'\n",
    "test_inf = '2017-09-01'\n",
    "test_sup = '2017-11-30'"
   ]
  },
  {
   "cell_type": "code",
   "execution_count": 99,
   "metadata": {},
   "outputs": [],
   "source": [
    "train = df_reduit.loc[(df_reduit['DateTransaction'] >= train_inf) & (df_reduit['DateTransaction'] <= train_sup)]\n",
    "X_train = train.drop(columns=['FlagImpaye','CodeDecision'])\n",
    "y_train = train['FlagImpaye']"
   ]
  },
  {
   "cell_type": "code",
   "execution_count": 100,
   "metadata": {},
   "outputs": [],
   "source": [
    "test = df_reduit.loc[(df_reduit['DateTransaction'] >= test_inf) & (df_reduit['DateTransaction'] <= test_sup)]\n",
    "X_test = test.drop(columns=['FlagImpaye','CodeDecision'])\n",
    "y_test = test['FlagImpaye']"
   ]
  },
  {
   "cell_type": "code",
   "execution_count": 101,
   "metadata": {},
   "outputs": [],
   "source": [
    "# on enleve 'DateTransaction' qui ne nous sert plus\n",
    "X_train = X_train.drop(columns=['DateTransaction'])\n",
    "X_test = X_test.drop(columns=['DateTransaction'])"
   ]
  },
  {
   "cell_type": "code",
   "execution_count": 109,
   "metadata": {},
   "outputs": [
    {
     "name": "stdout",
     "output_type": "stream",
     "text": [
      "<class 'pandas.core.frame.DataFrame'>\n",
      "Index: 388491 entries, 1628857 to 3285815\n",
      "Data columns (total 24 columns):\n",
      " #   Column          Non-Null Count   Dtype  \n",
      "---  ------          --------------   -----  \n",
      " 0   Montant         388491 non-null  float64\n",
      " 1   VerifianceCPT1  388491 non-null  int32  \n",
      " 2   VerifianceCPT2  388491 non-null  int32  \n",
      " 3   VerifianceCPT3  388491 non-null  int32  \n",
      " 4   D2CB            388491 non-null  int32  \n",
      " 5   ScoringFP1      388491 non-null  float64\n",
      " 6   ScoringFP2      388491 non-null  float64\n",
      " 7   ScoringFP3      388491 non-null  float64\n",
      " 8   TauxImpNb_RB    388491 non-null  float64\n",
      " 9   TauxImpNB_CPM   388491 non-null  float64\n",
      " 10  EcartNumCheq    388491 non-null  int32  \n",
      " 11  NbrMagasin3J    388491 non-null  int32  \n",
      " 12  DiffDateTr1     388491 non-null  float64\n",
      " 13  DiffDateTr2     388491 non-null  float64\n",
      " 14  DiffDateTr3     388491 non-null  float64\n",
      " 15  CA3TRetMtt      388491 non-null  float64\n",
      " 16  CA3TR           388491 non-null  float64\n",
      " 17  Heure           388491 non-null  int32  \n",
      " 18  Year            388491 non-null  int32  \n",
      " 19  Month           388491 non-null  int32  \n",
      " 20  Day             388491 non-null  int32  \n",
      " 21  Hour            388491 non-null  int32  \n",
      " 22  Minute          388491 non-null  int32  \n",
      " 23  Second          388491 non-null  int32  \n",
      "dtypes: float64(11), int32(13)\n",
      "memory usage: 54.8 MB\n"
     ]
    }
   ],
   "source": [
    "X_train.info()"
   ]
  },
  {
   "cell_type": "code",
   "execution_count": 111,
   "metadata": {},
   "outputs": [
    {
     "name": "stdout",
     "output_type": "stream",
     "text": [
      "<class 'pandas.core.series.Series'>\n",
      "Index: 388491 entries, 1628857 to 3285815\n",
      "Series name: FlagImpaye\n",
      "Non-Null Count   Dtype   \n",
      "--------------   -----   \n",
      "388491 non-null  category\n",
      "dtypes: category(1)\n",
      "memory usage: 3.3 MB\n"
     ]
    }
   ],
   "source": [
    "y_train.info()"
   ]
  },
  {
   "cell_type": "markdown",
   "metadata": {},
   "source": [
    "## Modèles suppervisés"
   ]
  },
  {
   "cell_type": "markdown",
   "metadata": {},
   "source": [
    "### Decision tree"
   ]
  },
  {
   "cell_type": "code",
   "execution_count": 126,
   "metadata": {},
   "outputs": [],
   "source": [
    "from sklearn.tree import DecisionTreeClassifier\n",
    "from sklearn import metrics\n",
    "from sklearn.metrics import f1_score\n",
    "\n",
    "\n",
    "model_DecisionTreeClassifier = DecisionTreeClassifier()"
   ]
  },
  {
   "cell_type": "markdown",
   "metadata": {},
   "source": [
    "#### Decision tree avec le Random Over-Sampling"
   ]
  },
  {
   "cell_type": "code",
   "execution_count": 123,
   "metadata": {},
   "outputs": [
    {
     "name": "stdout",
     "output_type": "stream",
     "text": [
      "F1 Score: 0.04980544747081712\n"
     ]
    }
   ],
   "source": [
    "# Entraîner le modèle sur l'ensemble d'entraînement\n",
    "model_DecisionTreeClassifier.fit(X_train_ros, y_train_ros)\n",
    "\n",
    "# Faire des prédictions sur l'ensemble de test\n",
    "y_pred = model_DecisionTreeClassifier.predict(X_test)\n",
    "\n",
    "# Évaluer les performances du modèle\n",
    "f1 = f1_score(y_test, y_pred)\n",
    "print(f\"F1 Score: {f1}\")"
   ]
  },
  {
   "cell_type": "markdown",
   "metadata": {},
   "source": [
    "#### Decision tree avec SMOTE"
   ]
  },
  {
   "cell_type": "code",
   "execution_count": 124,
   "metadata": {},
   "outputs": [
    {
     "name": "stdout",
     "output_type": "stream",
     "text": [
      "F1 Score: 0.03350151362260344\n"
     ]
    }
   ],
   "source": [
    "# Entraîner le modèle sur l'ensemble d'entraînement\n",
    "model_DecisionTreeClassifier.fit(X_train_smote, y_train_smote)\n",
    "\n",
    "# Faire des prédictions sur l'ensemble de test\n",
    "y_pred = model_DecisionTreeClassifier.predict(X_test)\n",
    "\n",
    "# Évaluer les performances du modèle\n",
    "f1 = f1_score(y_test, y_pred)\n",
    "print(f\"F1 Score: {f1}\")"
   ]
  },
  {
   "cell_type": "markdown",
   "metadata": {},
   "source": [
    "#### Decision Tree avec ADASYN"
   ]
  },
  {
   "cell_type": "code",
   "execution_count": 125,
   "metadata": {},
   "outputs": [
    {
     "name": "stdout",
     "output_type": "stream",
     "text": [
      "F1 Score: 0.03461205653302567\n"
     ]
    }
   ],
   "source": [
    "model_DecisionTreeClassifier.fit(X_train_adasyn, y_train_adasyn)\n",
    "\n",
    "# Faire des prédictions sur l'ensemble de test\n",
    "y_pred = model_DecisionTreeClassifier.predict(X_test)\n",
    "\n",
    "# Évaluer les performances du modèle\n",
    "f1 = f1_score(y_test, y_pred)\n",
    "print(f\"F1 Score: {f1}\")"
   ]
  },
  {
   "cell_type": "markdown",
   "metadata": {},
   "source": [
    "### Greedsearch du decision tree avec chaque méthode d'échantillonage"
   ]
  },
  {
   "cell_type": "markdown",
   "metadata": {},
   "source": [
    "#### Greedsearch decision tree avec Random-Over Sampling"
   ]
  },
  {
   "cell_type": "code",
   "execution_count": 145,
   "metadata": {},
   "outputs": [
    {
     "name": "stdout",
     "output_type": "stream",
     "text": [
      "Meilleurs paramètres: {'classifier__max_depth': 15, 'classifier__min_samples_leaf': 2, 'classifier__min_samples_split': 5}\n",
      "Meilleur score F1: 0.2159163417378213\n"
     ]
    }
   ],
   "source": [
    "from sklearn.model_selection import GridSearchCV\n",
    "from sklearn.pipeline import Pipeline\n",
    "\n",
    "# Suréchantillonnage\n",
    "ros = RandomOverSampler(sampling_strategy=0.01)\n",
    "X_train_ros, y_train_ros = ros.fit_resample(X_train, y_train)\n",
    "\n",
    "# Modèle de l'arbre de décision\n",
    "dt_classifier = DecisionTreeClassifier()\n",
    "\n",
    "# Pipeline\n",
    "pipeline = Pipeline([\n",
    "    ('classifier', dt_classifier)\n",
    "])\n",
    "\n",
    "# Paramètres pour la recherche sur la grille\n",
    "param_grid = {\n",
    "    'classifier__max_depth': [5, 10, 15],\n",
    "    'classifier__min_samples_split': [5, 10],\n",
    "    'classifier__min_samples_leaf': [2, 4]\n",
    "}\n",
    "\n",
    "# Recherche sur la grille\n",
    "grid_search = GridSearchCV(pipeline, param_grid, scoring='f1', cv=5)\n",
    "grid_search.fit(X_train_ros, y_train_ros)\n",
    "\n",
    "# Afficher les meilleurs paramètres et le meilleur score F1\n",
    "print(\"Meilleurs paramètres:\", grid_search.best_params_)\n",
    "print(\"Meilleur score F1:\", grid_search.best_score_)\n",
    "\n"
   ]
  },
  {
   "cell_type": "code",
   "execution_count": 138,
   "metadata": {},
   "outputs": [
    {
     "name": "stdout",
     "output_type": "stream",
     "text": [
      "F1 Score: 0.05270457697642164\n"
     ]
    }
   ],
   "source": [
    "y_pred = grid_search.predict(X_test)\n",
    "\n",
    "# Évaluer les performances du modèle\n",
    "f1 = f1_score(y_test, y_pred)\n",
    "print(f\"F1 Score: {f1}\")"
   ]
  },
  {
   "cell_type": "code",
   "execution_count": 141,
   "metadata": {},
   "outputs": [
    {
     "data": {
      "text/plain": [
       "array([[72015,  1428],\n",
       "       [  621,    57]], dtype=int64)"
      ]
     },
     "execution_count": 141,
     "metadata": {},
     "output_type": "execute_result"
    }
   ],
   "source": [
    "from sklearn.metrics import confusion_matrix\n",
    "\n",
    "conf_matrix = confusion_matrix(y_test, y_pred)\n",
    "\n",
    "conf_matrix"
   ]
  },
  {
   "cell_type": "markdown",
   "metadata": {},
   "source": [
    "#### Greedsearch decision tree avec SMOTE"
   ]
  },
  {
   "cell_type": "code",
   "execution_count": 142,
   "metadata": {},
   "outputs": [
    {
     "name": "stdout",
     "output_type": "stream",
     "text": [
      "Meilleurs paramètres: {'classifier__max_depth': 15, 'classifier__min_samples_leaf': 2, 'classifier__min_samples_split': 5}\n",
      "Meilleur score F1: 0.7529430064409663\n"
     ]
    }
   ],
   "source": [
    "# Suréchantillonnage\n",
    "smote = SMOTE(sampling_strategy=0.1)\n",
    "X_train_smote, y_train_smote = smote.fit_resample(X_train, y_train)\n",
    "\n",
    "# Modèle de l'arbre de décision\n",
    "dt_classifier = DecisionTreeClassifier()\n",
    "\n",
    "# Pipeline\n",
    "pipeline = Pipeline([\n",
    "    ('classifier', dt_classifier)\n",
    "])\n",
    "\n",
    "# Paramètres pour la recherche sur la grille\n",
    "param_grid = {\n",
    "    'classifier__max_depth': [5, 10, 15],\n",
    "    'classifier__min_samples_split': [5, 10],\n",
    "    'classifier__min_samples_leaf': [2, 4]\n",
    "}\n",
    "\n",
    "# Recherche sur la grille\n",
    "grid_search = GridSearchCV(pipeline, param_grid, scoring='f1', cv=5)\n",
    "grid_search.fit(X_train_smote, y_train_smote)\n",
    "\n",
    "# Afficher les meilleurs paramètres et le meilleur score F1\n",
    "print(\"Meilleurs paramètres:\", grid_search.best_params_)\n",
    "print(\"Meilleur score F1:\", grid_search.best_score_)"
   ]
  },
  {
   "cell_type": "code",
   "execution_count": 143,
   "metadata": {},
   "outputs": [
    {
     "name": "stdout",
     "output_type": "stream",
     "text": [
      "F1 Score: 0.05735204392922514\n"
     ]
    }
   ],
   "source": [
    "y_pred = grid_search.predict(X_test)\n",
    "\n",
    "# Évaluer les performances du modèle\n",
    "f1 = f1_score(y_test, y_pred)\n",
    "print(f\"F1 Score: {f1}\")"
   ]
  },
  {
   "cell_type": "code",
   "execution_count": 144,
   "metadata": {},
   "outputs": [
    {
     "data": {
      "text/plain": [
       "array([[70937,  2506],\n",
       "       [  584,    94]], dtype=int64)"
      ]
     },
     "execution_count": 144,
     "metadata": {},
     "output_type": "execute_result"
    }
   ],
   "source": [
    "conf_matrix = confusion_matrix(y_test, y_pred)\n",
    "\n",
    "conf_matrix"
   ]
  },
  {
   "cell_type": "markdown",
   "metadata": {},
   "source": [
    "#### Greedsearch decision tree avec ADASYN"
   ]
  },
  {
   "cell_type": "code",
   "execution_count": 134,
   "metadata": {},
   "outputs": [
    {
     "name": "stdout",
     "output_type": "stream",
     "text": [
      "Meilleurs paramètres: {'classifier__max_depth': 15, 'classifier__min_samples_leaf': 2, 'classifier__min_samples_split': 5}\n",
      "Meilleur score F1: 0.8762673480649331\n"
     ]
    }
   ],
   "source": [
    "# Suréchantillonnage\n",
    "X_train_adasyn, y_train_adasyn = ADASYN(sampling_strategy=0.1).fit_resample(X_train, y_train)\n",
    "\n",
    "# Modèle de l'arbre de décision\n",
    "dt_classifier = DecisionTreeClassifier()\n",
    "\n",
    "# Pipeline\n",
    "pipeline = Pipeline([\n",
    "    ('classifier', dt_classifier)\n",
    "])\n",
    "\n",
    "# Paramètres pour la recherche sur la grille\n",
    "param_grid = {\n",
    "    'classifier__max_depth': [5, 10, 15],\n",
    "    'classifier__min_samples_split': [5, 10],\n",
    "    'classifier__min_samples_leaf': [2, 4]\n",
    "}\n",
    "\n",
    "# Recherche sur la grille\n",
    "grid_search = GridSearchCV(pipeline, param_grid, scoring='f1', cv=5)\n",
    "grid_search.fit(X_train_smote, y_train_smote)\n",
    "\n",
    "# Afficher les meilleurs paramètres et le meilleur score F1\n",
    "print(\"Meilleurs paramètres:\", grid_search.best_params_)\n",
    "print(\"Meilleur score F1:\", grid_search.best_score_)"
   ]
  },
  {
   "cell_type": "code",
   "execution_count": 135,
   "metadata": {},
   "outputs": [
    {
     "name": "stdout",
     "output_type": "stream",
     "text": [
      "F1 Score: 0.0326734576206035\n"
     ]
    }
   ],
   "source": [
    "y_pred = grid_search.predict(X_test)\n",
    "\n",
    "# Évaluer les performances du modèle\n",
    "f1 = f1_score(y_test, y_pred)\n",
    "print(f\"F1 Score: {f1}\")"
   ]
  },
  {
   "cell_type": "code",
   "execution_count": null,
   "metadata": {},
   "outputs": [],
   "source": [
    "conf_matrix = confusion_matrix(y_test, y_pred)\n",
    "\n",
    "conf_matrix"
   ]
  },
  {
   "cell_type": "markdown",
   "metadata": {},
   "source": [
    "### Greedsearch du random Forest avec chaque méthode d'échantillonage"
   ]
  },
  {
   "cell_type": "markdown",
   "metadata": {},
   "source": [
    "##### Greeddsearch random forest avec Random over sampling"
   ]
  },
  {
   "cell_type": "code",
   "execution_count": 148,
   "metadata": {},
   "outputs": [
    {
     "name": "stdout",
     "output_type": "stream",
     "text": [
      "Meilleurs paramètres: {'classifier__max_depth': 15, 'classifier__min_samples_leaf': 2, 'classifier__min_samples_split': 10, 'classifier__n_estimators': 50}\n",
      "Meilleur score F1: 0.6772828768062791\n"
     ]
    }
   ],
   "source": [
    "from sklearn.model_selection import GridSearchCV\n",
    "from sklearn.pipeline import Pipeline\n",
    "from sklearn.ensemble import RandomForestClassifier\n",
    "\n",
    "\n",
    "# Suréchantillonnage\n",
    "ros = RandomOverSampler(sampling_strategy=0.1)\n",
    "X_train_ros, y_train_ros = ros.fit_resample(X_train, y_train)\n",
    "\n",
    "# Modèle de l'arbre de décision\n",
    "rf_classifier = RandomForestClassifier()\n",
    "\n",
    "# Pipeline\n",
    "pipeline = Pipeline([\n",
    "    ('classifier', rf_classifier)\n",
    "])\n",
    "\n",
    "# Paramètres pour la recherche sur la grille\n",
    "param_grid = {\n",
    "    'classifier__n_estimators': [50],\n",
    "    'classifier__max_depth': [5, 10, 15],\n",
    "    'classifier__min_samples_split': [5, 10],\n",
    "    'classifier__min_samples_leaf': [2, 4]\n",
    "}\n",
    "\n",
    "# Recherche sur la grille\n",
    "grid_search = GridSearchCV(pipeline, param_grid, scoring='f1', cv=5)\n",
    "grid_search.fit(X_train_ros, y_train_ros)\n",
    "\n",
    "# Afficher les meilleurs paramètres et le meilleur score F1\n",
    "print(\"Meilleurs paramètres:\", grid_search.best_params_)\n",
    "print(\"Meilleur score F1:\", grid_search.best_score_)"
   ]
  },
  {
   "cell_type": "code",
   "execution_count": 152,
   "metadata": {},
   "outputs": [
    {
     "name": "stdout",
     "output_type": "stream",
     "text": [
      "F1 Score: 0.9863710085180319\n"
     ]
    }
   ],
   "source": [
    "y_pred = grid_search.predict(X_test)\n",
    "\n",
    "# Évaluer les performances du modèle\n",
    "f1 = f1_score(y_test, y_pred, average='weighted')\n",
    "print(f\"F1 Score: {f1}\")"
   ]
  },
  {
   "cell_type": "code",
   "execution_count": 153,
   "metadata": {},
   "outputs": [
    {
     "data": {
      "text/plain": [
       "array([[73352,    91],\n",
       "       [  655,    23]], dtype=int64)"
      ]
     },
     "execution_count": 153,
     "metadata": {},
     "output_type": "execute_result"
    }
   ],
   "source": [
    "conf_matrix = confusion_matrix(y_test, y_pred)\n",
    "\n",
    "conf_matrix"
   ]
  },
  {
   "cell_type": "markdown",
   "metadata": {},
   "source": [
    "Il faut se concentrer sur la confusion matrix et les poids associés plutot que sur le f1 score. "
   ]
  },
  {
   "cell_type": "code",
   "execution_count": null,
   "metadata": {},
   "outputs": [],
   "source": []
  }
 ],
 "metadata": {
  "kernelspec": {
   "display_name": "Python 3",
   "language": "python",
   "name": "python3"
  },
  "language_info": {
   "codemirror_mode": {
    "name": "ipython",
    "version": 3
   },
   "file_extension": ".py",
   "mimetype": "text/x-python",
   "name": "python",
   "nbconvert_exporter": "python",
   "pygments_lexer": "ipython3",
   "version": "3.11.4"
  }
 },
 "nbformat": 4,
 "nbformat_minor": 2
}
